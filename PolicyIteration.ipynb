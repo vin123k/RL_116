{
  "cells": [
    {
      "cell_type": "markdown",
      "metadata": {
        "id": "view-in-github",
        "colab_type": "text"
      },
      "source": [
        "<a href=\"https://colab.research.google.com/github/vin123k/RL_116/blob/main/PolicyIteration.ipynb\" target=\"_parent\"><img src=\"https://colab.research.google.com/assets/colab-badge.svg\" alt=\"Open In Colab\"/></a>"
      ]
    },
    {
      "cell_type": "code",
      "execution_count": 1,
      "metadata": {
        "id": "tghCbWThv0z2"
      },
      "outputs": [],
      "source": [
        "import random\n",
        "\n",
        "# Arguments\n",
        "REWARD = -0.01 # constant reward for non-terminal states\n",
        "DISCOUNT = 0.99\n",
        "MAX_ERROR = 10**(-3)\n",
        "\n",
        "# Set up the initial environment\n",
        "NUM_ACTIONS = 4\n",
        "ACTIONS = [(1, 0), (0, -1), (-1, 0), (0, 1)] # Down, Left, Up, Right\n",
        "NUM_ROW = 3\n",
        "NUM_COL = 4\n",
        "U = [[0, 0, 0, 1], [0, 0, 0, -1], [0, 0, 0, 0], [0, 0, 0, 0]]\n",
        "policy = [[random.randint(0, 3) for j in range(NUM_COL)] for i in range(NUM_ROW)] # construct a random policy\n",
        "\n",
        "\n"
      ]
    },
    {
      "cell_type": "code",
      "source": [
        "# Visualization\n",
        "def printEnvironment(arr, policy=False):\n",
        "    res = \"\"\n",
        "    for r in range(NUM_ROW):\n",
        "        res += \"|\"\n",
        "        for c in range(NUM_COL):\n",
        "            if r == c == 1:\n",
        "                val = \"WALL\"\n",
        "            elif r <= 1 and c == 3:\n",
        "                val = \"+1\" if r == 0 else \"-1\"\n",
        "            else:\n",
        "                val = [\"Down\", \"Left\", \"Up\", \"Right\"][arr[r][c]]\n",
        "            res += \" \" + val[:5].ljust(5) + \" |\" # format\n",
        "        res += \"\\n\"\n",
        "    print(res)\n",
        "\n",
        "# Get the utility of the state reached by performing the given action from the given state\n",
        "def getU(U, r, c, action):\n",
        "    dr, dc = ACTIONS[action]\n",
        "    newR, newC = r+dr, c+dc\n",
        "    if newR < 0 or newC < 0 or newR >= NUM_ROW or newC >= NUM_COL or (newR == newC == 1): # collide with the boundary or the wall\n",
        "        return U[r][c]\n",
        "    else:\n",
        "        return U[newR][newC]\n",
        "\n",
        "# Calculate the utility of a state given an action\n",
        "def calculateU(U, r, c, action):\n",
        "    u = REWARD\n",
        "    u += 0.1 * DISCOUNT * getU(U, r, c, (action-1)%4)\n",
        "    u += 0.8 * DISCOUNT * getU(U, r, c, action)\n",
        "    u += 0.1 * DISCOUNT * getU(U, r, c, (action+1)%4)\n",
        "    return u\n",
        "\n",
        "# Perform some simplified value iteration steps to get an approximation of the utilities\n",
        "def policyEvaluation(policy, U):\n",
        "    while True:\n",
        "        nextU = [[0, 0, 0, 1], [0, 0, 0, -1], [0, 0, 0, 0], [0, 0, 0, 0]]\n",
        "        error = 0\n",
        "        for r in range(NUM_ROW):\n",
        "            for c in range(NUM_COL):\n",
        "                if (r <= 1 and c == 3) or (r == c == 1):\n",
        "                    continue\n",
        "                nextU[r][c] = calculateU(U, r, c, policy[r][c]) # simplified Bellman update\n",
        "                error = max(error, abs(nextU[r][c]-U[r][c]))\n",
        "        U = nextU\n",
        "        if error < MAX_ERROR * (1-DISCOUNT) / DISCOUNT:\n",
        "            break\n",
        "    return U"
      ],
      "metadata": {
        "id": "rieeoEs3v-31"
      },
      "execution_count": 2,
      "outputs": []
    },
    {
      "cell_type": "code",
      "execution_count": 3,
      "metadata": {
        "colab": {
          "base_uri": "https://localhost:8080/"
        },
        "id": "uHHLH-jCv0z4",
        "outputId": "4fe8c22e-3b69-468e-cc91-c4a28670764b"
      },
      "outputs": [
        {
          "output_type": "stream",
          "name": "stdout",
          "text": [
            "The initial random policy is:\n",
            "\n",
            "| Right | Down  | Up    | +1    |\n",
            "| Down  | WALL  | Down  | -1    |\n",
            "| Left  | Down  | Left  | Left  |\n",
            "\n",
            "During the policy iteration:\n",
            "\n",
            "| Up    | Right | Right | +1    |\n",
            "| Up    | WALL  | Up    | -1    |\n",
            "| Left  | Left  | Left  | Down  |\n",
            "\n",
            "| Right | Right | Right | +1    |\n",
            "| Up    | WALL  | Up    | -1    |\n",
            "| Up    | Left  | Up    | Down  |\n",
            "\n",
            "| Right | Right | Right | +1    |\n",
            "| Up    | WALL  | Left  | -1    |\n",
            "| Up    | Left  | Left  | Down  |\n",
            "\n",
            "The optimal policy is:\n",
            "\n",
            "| Right | Right | Right | +1    |\n",
            "| Up    | WALL  | Left  | -1    |\n",
            "| Up    | Left  | Left  | Down  |\n",
            "\n"
          ]
        }
      ],
      "source": [
        "\n",
        "def policyIteration(policy, U):\n",
        "    print(\"During the policy iteration:\\n\")\n",
        "    while True:\n",
        "        U = policyEvaluation(policy, U)\n",
        "        unchanged = True\n",
        "        for r in range(NUM_ROW):\n",
        "            for c in range(NUM_COL):\n",
        "                if (r <= 1 and c == 3) or (r == c == 1):\n",
        "                    continue\n",
        "                maxAction, maxU = None, -float(\"inf\")\n",
        "                for action in range(NUM_ACTIONS):\n",
        "                    u = calculateU(U, r, c, action)\n",
        "                    if u > maxU:\n",
        "                        maxAction, maxU = action, u\n",
        "                if maxU > calculateU(U, r, c, policy[r][c]):\n",
        "                    policy[r][c] = maxAction # the action that maximizes the utility\n",
        "                    unchanged = False\n",
        "        if unchanged:\n",
        "            break\n",
        "        printEnvironment(policy)\n",
        "    return policy\n",
        "\n",
        "# Print the initial environment\n",
        "print(\"The initial random policy is:\\n\")\n",
        "printEnvironment(policy)\n",
        "\n",
        "# Policy iteration\n",
        "policy = policyIteration(policy, U)\n",
        "\n",
        "# Print the optimal policy\n",
        "print(\"The optimal policy is:\\n\")\n",
        "printEnvironment(policy)"
      ]
    }
  ],
  "metadata": {
    "kernelspec": {
      "display_name": "Python 3",
      "language": "python",
      "name": "python3"
    },
    "language_info": {
      "codemirror_mode": {
        "name": "ipython",
        "version": 3
      },
      "file_extension": ".py",
      "mimetype": "text/x-python",
      "name": "python",
      "nbconvert_exporter": "python",
      "pygments_lexer": "ipython3",
      "version": "3.9.6"
    },
    "orig_nbformat": 4,
    "colab": {
      "provenance": [],
      "include_colab_link": true
    }
  },
  "nbformat": 4,
  "nbformat_minor": 0
}