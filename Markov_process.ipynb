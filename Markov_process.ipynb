{
  "nbformat": 4,
  "nbformat_minor": 0,
  "metadata": {
    "colab": {
      "provenance": [],
      "authorship_tag": "ABX9TyPmGy4n0EJaj2nSMMOL2qoL",
      "include_colab_link": true
    },
    "kernelspec": {
      "name": "python3",
      "display_name": "Python 3"
    },
    "language_info": {
      "name": "python"
    }
  },
  "cells": [
    {
      "cell_type": "markdown",
      "metadata": {
        "id": "view-in-github",
        "colab_type": "text"
      },
      "source": [
        "<a href=\"https://colab.research.google.com/github/vin123k/RL_116/blob/main/Markov_process.ipynb\" target=\"_parent\"><img src=\"https://colab.research.google.com/assets/colab-badge.svg\" alt=\"Open In Colab\"/></a>"
      ]
    },
    {
      "cell_type": "code",
      "execution_count": 1,
      "metadata": {
        "colab": {
          "base_uri": "https://localhost:8080/"
        },
        "id": "wjCacBB9CVCU",
        "outputId": "b317cb0b-18d5-4aed-fa57-1ec3022742c8"
      },
      "outputs": [
        {
          "output_type": "stream",
          "name": "stdout",
          "text": [
            "All is gonna be okay, you should move on!! ;)\n",
            "[['Sleep', 'Icecream', 'Run'], ['Sleep', 'Icecream', 'Run'], ['Sleep', 'Sleep', 'Run'], ['Sleep', 'Sleep', 'Icecream'], ['Sleep', 'Run', 'Run'], ['Sleep', 'Run', 'Run'], ['Sleep', 'Sleep', 'Sleep'], ['Sleep', 'Run', 'Run'], ['Sleep', 'Run', 'Icecream']]\n",
            "The probability of starting at state:'Sleep' and ending at state:'Run'= 60.0%\n"
          ]
        }
      ],
      "source": [
        "import numpy as np\n",
        "import random as rm\n",
        "# The statespace\n",
        "states = [\"Sleep\",\"Icecream\",\"Run\"]\n",
        "\n",
        "# Possible sequences of events\n",
        "transitionName = [[\"SS\",\"SR\",\"SI\"],[\"RS\",\"RR\",\"RI\"],[\"IS\",\"IR\",\"II\"]]\n",
        "\n",
        "# Probabilities matrix (transition matrix)\n",
        "transitionMatrix = [[0.2,0.6,0.2],[0.1,0.6,0.3],[0.2,0.7,0.1]]\n",
        "if sum(transitionMatrix[0])+sum(transitionMatrix[1])+sum(transitionMatrix[2]) != 3:\n",
        "    print(\"Somewhere, something went wrong. Transition matrix, perhaps?\")\n",
        "else: print(\"All is gonna be okay, you should move on!! ;)\")\n",
        "#All is gonna be okay, you should move on!! ;)\n",
        "def activity_forecast(days):\n",
        "    # Choose the starting state\n",
        "    activityToday = \"Sleep\"\n",
        "    activityList = [activityToday]\n",
        "    i = 0\n",
        "    prob = 1\n",
        "    while i != days:\n",
        "        if activityToday == \"Sleep\":\n",
        "            change = np.random.choice(transitionName[0],replace=True,p=transitionMatrix[0])\n",
        "            if change == \"SS\":\n",
        "                prob = prob * 0.2\n",
        "                activityList.append(\"Sleep\")\n",
        "                pass\n",
        "            elif change == \"SR\":\n",
        "                prob = prob * 0.6\n",
        "                activityToday = \"Run\"\n",
        "                activityList.append(\"Run\")\n",
        "            else:\n",
        "                prob = prob * 0.2\n",
        "                activityToday = \"Icecream\"\n",
        "                activityList.append(\"Icecream\")\n",
        "        elif activityToday == \"Run\":\n",
        "            change = np.random.choice(transitionName[1],replace=True,p=transitionMatrix[1])\n",
        "            if change == \"RR\":\n",
        "                prob = prob * 0.5\n",
        "                activityList.append(\"Run\")\n",
        "                pass\n",
        "            elif change == \"RS\":\n",
        "                prob = prob * 0.2\n",
        "                activityToday = \"Sleep\"\n",
        "                activityList.append(\"Sleep\")\n",
        "            else:\n",
        "                prob = prob * 0.3\n",
        "                activityToday = \"Icecream\"\n",
        "                activityList.append(\"Icecream\")\n",
        "        elif activityToday == \"Icecream\":\n",
        "            change = np.random.choice(transitionName[2],replace=True,p=transitionMatrix[2])\n",
        "            if change == \"II\":\n",
        "                prob = prob * 0.1\n",
        "                activityList.append(\"Icecream\")\n",
        "                pass\n",
        "            elif change == \"IS\":\n",
        "                prob = prob * 0.2\n",
        "                activityToday = \"Sleep\"\n",
        "                activityList.append(\"Sleep\")\n",
        "            else:\n",
        "                prob = prob * 0.7\n",
        "                activityToday = \"Run\"\n",
        "                activityList.append(\"Run\")\n",
        "        i += 1\n",
        "    return activityList\n",
        "\n",
        "# To save every activityList\n",
        "list_activity = []\n",
        "count = 0\n",
        "\n",
        "# `Range` starts from the first count up until but excluding the last count\n",
        "for iterations in range(1,10):\n",
        "        list_activity.append(activity_forecast(2))\n",
        "\n",
        "# Check out all the `activityList` we collected\n",
        "#print(list_activity)\n",
        "\n",
        "# Iterate through the list to get a count of all activities ending in state:'Run'\n",
        "for smaller_list in list_activity:\n",
        "    if(smaller_list[2] == \"Run\"):\n",
        "        count += 1\n",
        "\n",
        "# Calculate the probability of starting from state:'Sleep' and ending at state:'Run'\n",
        "percentage = (count/10) * 100\n",
        "print(list_activity)\n",
        "print(\"The probability of starting at state:'Sleep' and ending at state:'Run'= \" + str(percentage) + \"%\")"
      ]
    }
  ]
}