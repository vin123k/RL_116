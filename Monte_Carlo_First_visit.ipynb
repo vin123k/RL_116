{
  "nbformat": 4,
  "nbformat_minor": 0,
  "metadata": {
    "colab": {
      "provenance": [],
      "authorship_tag": "ABX9TyPB/T6HFIYoi0Bfi9Or+hYP",
      "include_colab_link": true
    },
    "kernelspec": {
      "name": "python3",
      "display_name": "Python 3"
    },
    "language_info": {
      "name": "python"
    }
  },
  "cells": [
    {
      "cell_type": "markdown",
      "metadata": {
        "id": "view-in-github",
        "colab_type": "text"
      },
      "source": [
        "<a href=\"https://colab.research.google.com/github/vin123k/RL_116/blob/main/Monte_Carlo_First_visit.ipynb\" target=\"_parent\"><img src=\"https://colab.research.google.com/assets/colab-badge.svg\" alt=\"Open In Colab\"/></a>"
      ]
    },
    {
      "cell_type": "code",
      "execution_count": 2,
      "metadata": {
        "colab": {
          "base_uri": "https://localhost:8080/"
        },
        "id": "i-m3K-yHBCAu",
        "outputId": "5c3aaa51-610e-43cd-a584-a8cf7ae1d4c3"
      },
      "outputs": [
        {
          "output_type": "stream",
          "name": "stdout",
          "text": [
            "Value function:\n",
            "State 0: 0.54\n",
            "State 1: 0.51\n",
            "State 2: 0.52\n",
            "State 3: 0.77\n"
          ]
        }
      ],
      "source": [
        "import numpy as np\n",
        "\n",
        "# Define the simple environment\n",
        "class Environment:\n",
        "    def __init__(self):\n",
        "        self.num_states = 5\n",
        "        self.num_actions = 2\n",
        "        self.transitions = {\n",
        "            0: [1, 3],\n",
        "            1: [0, 2],\n",
        "            2: [0, 1],\n",
        "            3: [1, 4],\n",
        "            4: [2, 4]\n",
        "        }\n",
        "        self.rewards = {0: 0, 1: 0, 2: 0, 3: 0, 4: 1}\n",
        "\n",
        "    def step(self, state, action):\n",
        "        next_state = np.random.choice(self.transitions[state])\n",
        "        reward = self.rewards[next_state]\n",
        "        return next_state, reward\n",
        "\n",
        "\n",
        "# First-visit Monte Carlo algorithm\n",
        "def first_visit_monte_carlo(env, num_episodes, gamma=0.9):\n",
        "    returns_sum = defaultdict(float)\n",
        "    returns_count = defaultdict(float)\n",
        "    V = defaultdict(float)\n",
        "\n",
        "    for _ in range(num_episodes):\n",
        "        episode = []\n",
        "        state = 0  # starting state\n",
        "        while True:\n",
        "            action = np.random.randint(env.num_actions)  # choose a random action\n",
        "            next_state, reward = env.step(state, action)\n",
        "            episode.append((state, reward))\n",
        "            if next_state == 4:  # terminal state\n",
        "                break\n",
        "            state = next_state\n",
        "\n",
        "        states_in_episode = set([x[0] for x in episode])\n",
        "        for state in states_in_episode:\n",
        "            first_occurrence_idx = next(i for i, x in enumerate(episode) if x[0] == state)\n",
        "            G = sum([x[1] * (gamma ** i) for i, x in enumerate(episode[first_occurrence_idx:])])\n",
        "            returns_sum[state] += G\n",
        "            returns_count[state] += 1\n",
        "            V[state] = returns_sum[state] / returns_count[state]\n",
        "\n",
        "    return V\n",
        "\n",
        "\n",
        "if __name__ == '__main__':\n",
        "    from collections import defaultdict\n",
        "\n",
        "    env = Environment()\n",
        "    num_episodes = 10\n",
        "    V = first_visit_monte_carlo(env, num_episodes)\n",
        "    print(\"Value function:\")\n",
        "    for state, value in V.items():\n",
        "        print(f\"State {state}: {value:.2f}\")"
      ]
    }
  ]
}